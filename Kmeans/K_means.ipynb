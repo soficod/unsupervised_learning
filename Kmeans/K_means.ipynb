{
 "cells": [
  {
   "cell_type": "markdown",
   "metadata": {
    "id": "Ua7nGrTl3fY-"
   },
   "source": [
    "## Coding Exercise #0402"
   ]
  },
  {
   "cell_type": "markdown",
   "metadata": {
    "id": "QpzgGe0U3fZC"
   },
   "source": [
    "### 1. K-Means clustering with real data:"
   ]
  },
  {
   "cell_type": "code",
   "execution_count": 11,
   "metadata": {
    "id": "rxjqz6ZU3fZD"
   },
   "outputs": [],
   "source": [
    "import numpy as np\n",
    "import pandas as pd\n",
    "import matplotlib.pyplot as plt\n",
    "import seaborn as sns\n",
    "import os\n",
    "from sklearn.cluster import KMeans\n",
    "import warnings\n",
    "warnings.filterwarnings('ignore')           # Turn off the warnings. \n",
    "%matplotlib inline"
   ]
  },
  {
   "cell_type": "markdown",
   "metadata": {
    "id": "f0sYkX_x3fZD"
   },
   "source": [
    "#### 1.1. Load the 'Iris' dataset from Seaborn:"
   ]
  },
  {
   "cell_type": "code",
   "execution_count": 12,
   "metadata": {
    "colab": {
     "base_uri": "https://localhost:8080/",
     "height": 206
    },
    "id": "l_jn4T4t3fZE",
    "outputId": "dbacc15b-718e-4b80-c2c4-d1279ce60fba"
   },
   "outputs": [
    {
     "data": {
      "text/html": [
       "<div>\n",
       "<style scoped>\n",
       "    .dataframe tbody tr th:only-of-type {\n",
       "        vertical-align: middle;\n",
       "    }\n",
       "\n",
       "    .dataframe tbody tr th {\n",
       "        vertical-align: top;\n",
       "    }\n",
       "\n",
       "    .dataframe thead th {\n",
       "        text-align: right;\n",
       "    }\n",
       "</style>\n",
       "<table border=\"1\" class=\"dataframe\">\n",
       "  <thead>\n",
       "    <tr style=\"text-align: right;\">\n",
       "      <th></th>\n",
       "      <th>sepal_length</th>\n",
       "      <th>sepal_width</th>\n",
       "      <th>petal_length</th>\n",
       "      <th>petal_width</th>\n",
       "      <th>species</th>\n",
       "    </tr>\n",
       "  </thead>\n",
       "  <tbody>\n",
       "    <tr>\n",
       "      <th>0</th>\n",
       "      <td>5.1</td>\n",
       "      <td>3.5</td>\n",
       "      <td>1.4</td>\n",
       "      <td>0.2</td>\n",
       "      <td>setosa</td>\n",
       "    </tr>\n",
       "    <tr>\n",
       "      <th>1</th>\n",
       "      <td>4.9</td>\n",
       "      <td>3.0</td>\n",
       "      <td>1.4</td>\n",
       "      <td>0.2</td>\n",
       "      <td>setosa</td>\n",
       "    </tr>\n",
       "    <tr>\n",
       "      <th>2</th>\n",
       "      <td>4.7</td>\n",
       "      <td>3.2</td>\n",
       "      <td>1.3</td>\n",
       "      <td>0.2</td>\n",
       "      <td>setosa</td>\n",
       "    </tr>\n",
       "    <tr>\n",
       "      <th>3</th>\n",
       "      <td>4.6</td>\n",
       "      <td>3.1</td>\n",
       "      <td>1.5</td>\n",
       "      <td>0.2</td>\n",
       "      <td>setosa</td>\n",
       "    </tr>\n",
       "    <tr>\n",
       "      <th>4</th>\n",
       "      <td>5.0</td>\n",
       "      <td>3.6</td>\n",
       "      <td>1.4</td>\n",
       "      <td>0.2</td>\n",
       "      <td>setosa</td>\n",
       "    </tr>\n",
       "  </tbody>\n",
       "</table>\n",
       "</div>"
      ],
      "text/plain": [
       "   sepal_length  sepal_width  petal_length  petal_width species\n",
       "0           5.1          3.5           1.4          0.2  setosa\n",
       "1           4.9          3.0           1.4          0.2  setosa\n",
       "2           4.7          3.2           1.3          0.2  setosa\n",
       "3           4.6          3.1           1.5          0.2  setosa\n",
       "4           5.0          3.6           1.4          0.2  setosa"
      ]
     },
     "execution_count": 12,
     "metadata": {},
     "output_type": "execute_result"
    }
   ],
   "source": [
    "df = sns.load_dataset('iris')\n",
    "X = df.drop(columns=['species'])                        # Only X variables.\n",
    "Y = df['species']                                       # Only Y variable.\n",
    "header_X = X.columns                                    # Store the column names of X.\n",
    "df.head()"
   ]
  },
  {
   "cell_type": "code",
   "execution_count": 13,
   "metadata": {
    "colab": {
     "base_uri": "https://localhost:8080/"
    },
    "id": "F4lEa4T54soy",
    "outputId": "c7a11a6b-3cb9-4a85-d4fd-b0d3f4178be7"
   },
   "outputs": [
    {
     "data": {
      "text/plain": [
       "0         setosa\n",
       "1         setosa\n",
       "2         setosa\n",
       "3         setosa\n",
       "4         setosa\n",
       "         ...    \n",
       "145    virginica\n",
       "146    virginica\n",
       "147    virginica\n",
       "148    virginica\n",
       "149    virginica\n",
       "Name: species, Length: 150, dtype: object"
      ]
     },
     "execution_count": 13,
     "metadata": {},
     "output_type": "execute_result"
    }
   ],
   "source": [
    "Y"
   ]
  },
  {
   "cell_type": "markdown",
   "metadata": {
    "id": "Gv4HdISZ3fZE"
   },
   "source": [
    "#### 1.2. Apply k-means:"
   ]
  },
  {
   "cell_type": "code",
   "execution_count": 14,
   "metadata": {
    "id": "HSXui7tl3fZF"
   },
   "outputs": [],
   "source": [
    "kmeans = KMeans(n_clusters=3, random_state=123)         # kmeans object for 3 clusters.\n",
    "kmeans.fit(X)                                           # Unsupervised learning => Only X.\n",
    "res = pd.Series(kmeans.labels_)                         # Cluster labeling result as Series."
   ]
  },
  {
   "cell_type": "code",
   "execution_count": 15,
   "metadata": {
    "colab": {
     "base_uri": "https://localhost:8080/"
    },
    "id": "-VESac_H33z3",
    "outputId": "a2414dff-4b8d-4076-c62e-e2600d9b634d"
   },
   "outputs": [
    {
     "data": {
      "text/plain": [
       "0      1\n",
       "1      1\n",
       "2      1\n",
       "3      1\n",
       "4      1\n",
       "      ..\n",
       "145    0\n",
       "146    2\n",
       "147    0\n",
       "148    0\n",
       "149    2\n",
       "Length: 150, dtype: int32"
      ]
     },
     "execution_count": 15,
     "metadata": {},
     "output_type": "execute_result"
    }
   ],
   "source": [
    "res"
   ]
  },
  {
   "cell_type": "code",
   "execution_count": 16,
   "metadata": {
    "colab": {
     "base_uri": "https://localhost:8080/"
    },
    "id": "p9l6PKr93fZF",
    "outputId": "bdaba22f-6db5-457a-e4ff-6c922b7109c1"
   },
   "outputs": [
    {
     "name": "stdout",
     "output_type": "stream",
     "text": [
      "virginica     36\n",
      "versicolor     2\n",
      "Name: species, dtype: int64\n"
     ]
    }
   ],
   "source": [
    "# Frequency table of the observations labeled as '0'.\n",
    "# This cluster has the majority 'virginica'.\n",
    "case0 = Y[res==0]\n",
    "print(case0.value_counts())"
   ]
  },
  {
   "cell_type": "code",
   "execution_count": 17,
   "metadata": {
    "colab": {
     "base_uri": "https://localhost:8080/"
    },
    "id": "8R-Pk0if3fZF",
    "outputId": "141dd611-4e58-4d9e-d3f7-dde4def44578"
   },
   "outputs": [
    {
     "name": "stdout",
     "output_type": "stream",
     "text": [
      "setosa    50\n",
      "Name: species, dtype: int64\n"
     ]
    }
   ],
   "source": [
    "# Frequency table of the observations labeled as '1'.\n",
    "# This cluster corresponds entirely to 'setosa'.\n",
    "case1 = Y[res==1]\n",
    "print(case1.value_counts())"
   ]
  },
  {
   "cell_type": "code",
   "execution_count": 18,
   "metadata": {
    "colab": {
     "base_uri": "https://localhost:8080/"
    },
    "id": "MeDBpLbW3fZG",
    "outputId": "c930f70a-b1be-4f9e-eb08-b3da86a4b751"
   },
   "outputs": [
    {
     "name": "stdout",
     "output_type": "stream",
     "text": [
      "versicolor    48\n",
      "virginica     14\n",
      "Name: species, dtype: int64\n"
     ]
    }
   ],
   "source": [
    "# Frequency table of the observations labeled as '2'.\n",
    "# This cluster has the majority 'versicolor'.\n",
    "case2 = Y[res==2]\n",
    "print(case2.value_counts())"
   ]
  },
  {
   "cell_type": "code",
   "execution_count": 19,
   "metadata": {
    "id": "ikmApFtZ3fZH"
   },
   "outputs": [],
   "source": [
    "# A list that contains the learned labels.\n",
    "learnedLabels = ['Virginica','Setosa','Versicolor']  "
   ]
  },
  {
   "cell_type": "code",
   "execution_count": 20,
   "metadata": {
    "colab": {
     "base_uri": "https://localhost:8080/",
     "height": 143
    },
    "id": "UfCFmy5F3fZI",
    "outputId": "dcff5f75-2087-4d6f-d677-4f8332bd2863"
   },
   "outputs": [
    {
     "data": {
      "text/html": [
       "<div>\n",
       "<style scoped>\n",
       "    .dataframe tbody tr th:only-of-type {\n",
       "        vertical-align: middle;\n",
       "    }\n",
       "\n",
       "    .dataframe tbody tr th {\n",
       "        vertical-align: top;\n",
       "    }\n",
       "\n",
       "    .dataframe thead th {\n",
       "        text-align: right;\n",
       "    }\n",
       "</style>\n",
       "<table border=\"1\" class=\"dataframe\">\n",
       "  <thead>\n",
       "    <tr style=\"text-align: right;\">\n",
       "      <th></th>\n",
       "      <th>sepal_length</th>\n",
       "      <th>sepal_width</th>\n",
       "      <th>petal_length</th>\n",
       "      <th>petal_width</th>\n",
       "    </tr>\n",
       "  </thead>\n",
       "  <tbody>\n",
       "    <tr>\n",
       "      <th>Cluster 0</th>\n",
       "      <td>6.85</td>\n",
       "      <td>3.07</td>\n",
       "      <td>5.74</td>\n",
       "      <td>2.07</td>\n",
       "    </tr>\n",
       "    <tr>\n",
       "      <th>Cluster 1</th>\n",
       "      <td>5.01</td>\n",
       "      <td>3.43</td>\n",
       "      <td>1.46</td>\n",
       "      <td>0.25</td>\n",
       "    </tr>\n",
       "    <tr>\n",
       "      <th>Cluster 2</th>\n",
       "      <td>5.90</td>\n",
       "      <td>2.75</td>\n",
       "      <td>4.39</td>\n",
       "      <td>1.43</td>\n",
       "    </tr>\n",
       "  </tbody>\n",
       "</table>\n",
       "</div>"
      ],
      "text/plain": [
       "           sepal_length  sepal_width  petal_length  petal_width\n",
       "Cluster 0          6.85         3.07          5.74         2.07\n",
       "Cluster 1          5.01         3.43          1.46         0.25\n",
       "Cluster 2          5.90         2.75          4.39         1.43"
      ]
     },
     "execution_count": 20,
     "metadata": {},
     "output_type": "execute_result"
    }
   ],
   "source": [
    "# Print out the cluster centers (centroids).\n",
    "np.round(pd.DataFrame(kmeans.cluster_centers_,columns=header_X,index=['Cluster 0','Cluster 1','Cluster 2']),2)"
   ]
  },
  {
   "cell_type": "code",
   "execution_count": 33,
   "metadata": {
    "id": "-xflNtRX88Kj"
   },
   "outputs": [],
   "source": [
    "Sum_of_squared_distances = [ ]\n",
    "K = range ( 1,20 )\n",
    "for k in K :\n",
    "    km = KMeans(n_clusters = k )\n",
    "    km = km.fit(X)\n",
    "    Sum_of_squared_distances.append (km.inertia_)\n",
    "    "
   ]
  },
  {
   "cell_type": "code",
   "execution_count": 35,
   "metadata": {},
   "outputs": [
    {
     "data": {
      "image/png": "[encoded data removed]",
      "text/plain": [
       "<Figure size 432x288 with 1 Axes>"
      ]
     },
     "metadata": {
      "needs_background": "light"
     },
     "output_type": "display_data"
    }
   ],
   "source": [
    "plt.plot ( K , Sum_of_squared_distances ,'bx-' )\n",
    "plt.xlabel( ' k ' )\n",
    "plt.ylabel( ' Sum_of_squared_distances ' )\n",
    "plt.title( ' Elbow Method For Optimal k ' )\n",
    "plt.show( )"
   ]
  },
  {
   "cell_type": "markdown",
   "metadata": {
    "id": "rjOxTJZo9NC5"
   },
   "source": [
    "# Evaluating clustering"
   ]
  },
  {
   "cell_type": "markdown",
   "metadata": {
    "id": "lLyRRdaM9je2"
   },
   "source": [
    "![inertia.png](data:image/png;base64,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)"
   ]
  },
  {
   "cell_type": "code",
   "execution_count": 21,
   "metadata": {
    "colab": {
     "base_uri": "https://localhost:8080/"
    },
    "id": "Et3jVx2Y9Qfo",
    "outputId": "2add7132-e17c-499d-825e-3687b126396e"
   },
   "outputs": [
    {
     "data": {
      "text/plain": [
       "78.85144142614601"
      ]
     },
     "execution_count": 21,
     "metadata": {},
     "output_type": "execute_result"
    }
   ],
   "source": [
    "kmeans.inertia_"
   ]
  },
  {
   "cell_type": "markdown",
   "metadata": {
    "id": "6Dig3F5h3fZJ"
   },
   "source": [
    "#### 1.3. Visualize:"
   ]
  },
  {
   "cell_type": "code",
   "execution_count": 22,
   "metadata": {
    "colab": {
     "base_uri": "https://localhost:8080/",
     "height": 295
    },
    "id": "ytxke4Ll3fZK",
    "outputId": "7436bd03-5923-4d97-bf33-f0b8cbe30b00"
   },
   "outputs": [
    {
     "data": {
      "image/png": "[encoded data removed]",
      "text/plain": [
       "<Figure size 432x288 with 1 Axes>"
      ]
     },
     "metadata": {
      "needs_background": "light"
     },
     "output_type": "display_data"
    }
   ],
   "source": [
    "# Visualize the labeling content of the cluster 0. \n",
    "sns.countplot(case0).set_title('Cluster 0')\n",
    "plt.show()"
   ]
  },
  {
   "cell_type": "code",
   "execution_count": 23,
   "metadata": {
    "colab": {
     "base_uri": "https://localhost:8080/",
     "height": 295
    },
    "id": "utsLvMny3fZK",
    "outputId": "470e15e4-ee79-4754-a46c-36f2da99fc3a"
   },
   "outputs": [
    {
     "data": {
      "image/png": "[encoded data removed]",
      "text/plain": [
       "<Figure size 432x288 with 1 Axes>"
      ]
     },
     "metadata": {
      "needs_background": "light"
     },
     "output_type": "display_data"
    }
   ],
   "source": [
    "# Visualize the labeling content of the cluster 1. \n",
    "sns.countplot(case1).set_title('Cluster 1')\n",
    "plt.show()"
   ]
  },
  {
   "cell_type": "code",
   "execution_count": 24,
   "metadata": {
    "colab": {
     "base_uri": "https://localhost:8080/",
     "height": 295
    },
    "id": "vSEsrjry3fZK",
    "outputId": "740f4dd9-8c44-48c6-9d32-7df9b6ec2e77"
   },
   "outputs": [
    {
     "data": {
      "image/png": "[encoded data removed]",
      "text/plain": [
       "<Figure size 432x288 with 1 Axes>"
      ]
     },
     "metadata": {
      "needs_background": "light"
     },
     "output_type": "display_data"
    }
   ],
   "source": [
    "# Visualize the labeling content of the cluster 2. \n",
    "sns.countplot(case2).set_title('Cluster 2')\n",
    "plt.show()"
   ]
  },
  {
   "cell_type": "markdown",
   "metadata": {
    "id": "0O92IE0t3fZL"
   },
   "source": [
    "#### 1.4. Prediction based on what we have learned:"
   ]
  },
  {
   "cell_type": "code",
   "execution_count": 25,
   "metadata": {
    "colab": {
     "base_uri": "https://localhost:8080/"
    },
    "id": "y-_CtdPS3fZL",
    "outputId": "eaea9658-c12d-44bf-a575-304ce62f4a4a"
   },
   "outputs": [
    {
     "name": "stdout",
     "output_type": "stream",
     "text": [
      "0\n",
      "Predicted cluster 0 with the most probable label 'Virginica'\n"
     ]
    }
   ],
   "source": [
    "# For a given observation of X, predict the species from what we have learned. \n",
    "# Case #1.\n",
    "X_test = {'sepal_length': [7.0] ,'sepal_width': [3.0] , 'petal_length': [5.0]  ,'petal_width': [1.5] }   # Only X is given.\n",
    "X_test = pd.DataFrame(X_test)\n",
    "predCluster = kmeans.predict(X_test)[0]\n",
    "print(predCluster)\n",
    "print(\"Predicted cluster {} with the most probable label '{}'\".format(predCluster,learnedLabels[predCluster]))"
   ]
  },
  {
   "cell_type": "code",
   "execution_count": null,
   "metadata": {
    "id": "qco8Qot_5rCW"
   },
   "outputs": [],
   "source": []
  },
  {
   "cell_type": "code",
   "execution_count": 26,
   "metadata": {
    "colab": {
     "base_uri": "https://localhost:8080/"
    },
    "id": "IofnuE4m3fZL",
    "outputId": "de435287-94c3-4b31-92a1-9f461b7f65c5"
   },
   "outputs": [
    {
     "name": "stdout",
     "output_type": "stream",
     "text": [
      "1\n",
      "Predicted cluster 1 with the most probable label 'Setosa'\n"
     ]
    }
   ],
   "source": [
    "# Case #2.\n",
    "X_test = {'sepal_length': [4.5] ,'sepal_width': [3.0] , 'petal_length': [1.0]  ,'petal_width': [1.0] }   # Only X is given.\n",
    "X_test = pd.DataFrame(X_test)\n",
    "predCluster = kmeans.predict(X_test)[0]\n",
    "print(predCluster)\n",
    "print(\"Predicted cluster {} with the most probable label '{}'\".format(predCluster,learnedLabels[predCluster]))"
   ]
  },
  {
   "cell_type": "code",
   "execution_count": 27,
   "metadata": {
    "colab": {
     "base_uri": "https://localhost:8080/"
    },
    "id": "UyJU8NNU3fZL",
    "outputId": "0e08458c-0904-4985-fc5d-6682fabd42f6"
   },
   "outputs": [
    {
     "name": "stdout",
     "output_type": "stream",
     "text": [
      "2\n",
      "Predicted cluster 2 with the most probable label 'Versicolor'\n"
     ]
    }
   ],
   "source": [
    "# Case #3.\n",
    "X_test = {'sepal_length': [6.0] ,'sepal_width': [3.0] , 'petal_length': [4.0]  ,'petal_width': [1.0] }   # Only X is given.\n",
    "X_test = pd.DataFrame(X_test)\n",
    "predCluster = kmeans.predict(X_test)[0]\n",
    "print(predCluster)\n",
    "\n",
    "print(\"Predicted cluster {} with the most probable label '{}'\".format(predCluster,learnedLabels[predCluster]))"
   ]
  },
  {
   "cell_type": "code",
   "execution_count": null,
   "metadata": {
    "id": "_zViKrE53fZM"
   },
   "outputs": [],
   "source": []
  },
  {
   "cell_type": "code",
   "execution_count": null,
   "metadata": {},
   "outputs": [],
   "source": []
  },
  {
   "cell_type": "code",
   "execution_count": null,
   "metadata": {},
   "outputs": [],
   "source": []
  },
  {
   "cell_type": "code",
   "execution_count": null,
   "metadata": {},
   "outputs": [],
   "source": []
  }
 ],
 "metadata": {
  "colab": {
   "provenance": []
  },
  "kernelspec": {
   "display_name": "Python 3 (ipykernel)",
   "language": "python",
   "name": "python3"
  },
  "language_info": {
   "codemirror_mode": {
    "name": "ipython",
    "version": 3
   },
   "file_extension": ".py",
   "mimetype": "text/x-python",
   "name": "python",
   "nbconvert_exporter": "python",
   "pygments_lexer": "ipython3",
   "version": "3.7.9"
  }
 },
 "nbformat": 4,
 "nbformat_minor": 1
}
